{
 "cells": [
  {
   "cell_type": "markdown",
   "id": "bfa29ebc",
   "metadata": {},
   "source": [
    "# Trabalho A1 - Tiago Barradas\n",
    "\n",
    "## Part 1 - Data loading and pre-processing\n",
    "\n",
    "Primeiramente, vamos baixar o dataset e começar a explorá-lo em busca de problemas."
   ]
  },
  {
   "cell_type": "code",
   "execution_count": 1,
   "id": "e95e4572",
   "metadata": {},
   "outputs": [],
   "source": [
    "import os\n",
    "import urllib\n",
    "import pandas as pd\n",
    "import numpy as np\n",
    "%matplotlib inline\n",
    "import matplotlib as mpl\n",
    "import matplotlib.pyplot as plt\n",
    "mpl.rc('axes', labelsize=11)\n",
    "mpl.rc('xtick', labelsize=13)\n",
    "mpl.rc('ytick', labelsize=13)\n",
    "mpl.rc('grid', alpha=0)\n",
    "import seaborn as sns\n",
    "\n",
    "\n",
    "\n",
    "# Baixa o dataset\n",
    "URL = \"https://raw.githubusercontent.com/tidyverse/ggplot2/main/data-raw/diamonds.csv\"\n",
    "DATASET_PATH = os.path.join(\"dataset\", \"diamonds.csv\")\n",
    "os.makedirs(\"dataset\", exist_ok=True)\n",
    "urllib.request.urlretrieve(URL, DATASET_PATH)\n",
    "\n",
    "diamonds = pd.read_csv(DATASET_PATH)"
   ]
  },
  {
   "cell_type": "code",
   "execution_count": 2,
   "id": "c16d1a0f",
   "metadata": {},
   "outputs": [
    {
     "name": "stdout",
     "output_type": "stream",
     "text": [
      "<class 'pandas.core.frame.DataFrame'>\n",
      "RangeIndex: 53940 entries, 0 to 53939\n",
      "Data columns (total 10 columns):\n",
      " #   Column   Non-Null Count  Dtype  \n",
      "---  ------   --------------  -----  \n",
      " 0   carat    53940 non-null  float64\n",
      " 1   cut      53940 non-null  object \n",
      " 2   color    53940 non-null  object \n",
      " 3   clarity  53940 non-null  object \n",
      " 4   depth    53940 non-null  float64\n",
      " 5   table    53940 non-null  float64\n",
      " 6   price    53940 non-null  int64  \n",
      " 7   x        53940 non-null  float64\n",
      " 8   y        53940 non-null  float64\n",
      " 9   z        53940 non-null  float64\n",
      "dtypes: float64(6), int64(1), object(3)\n",
      "memory usage: 4.1+ MB\n"
     ]
    }
   ],
   "source": [
    "diamonds.info()"
   ]
  },
  {
   "cell_type": "markdown",
   "id": "c26f3ae9",
   "metadata": {},
   "source": [
    "A princípo, não há nenhum datapoint com features faltantes, o que é um ótimo começo. Vamos agora checar se há datapoints repetidos:"
   ]
  },
  {
   "cell_type": "code",
   "execution_count": 3,
   "id": "2e2098ce",
   "metadata": {},
   "outputs": [
    {
     "data": {
      "text/plain": [
       "False    53794\n",
       "True       146\n",
       "dtype: int64"
      ]
     },
     "execution_count": 3,
     "metadata": {},
     "output_type": "execute_result"
    }
   ],
   "source": [
    "diamonds.duplicated().value_counts()"
   ]
  },
  {
   "cell_type": "code",
   "execution_count": 4,
   "id": "48344e44",
   "metadata": {},
   "outputs": [
    {
     "name": "stdout",
     "output_type": "stream",
     "text": [
      "<class 'pandas.core.frame.DataFrame'>\n",
      "Int64Index: 53794 entries, 0 to 53939\n",
      "Data columns (total 10 columns):\n",
      " #   Column   Non-Null Count  Dtype  \n",
      "---  ------   --------------  -----  \n",
      " 0   carat    53794 non-null  float64\n",
      " 1   cut      53794 non-null  object \n",
      " 2   color    53794 non-null  object \n",
      " 3   clarity  53794 non-null  object \n",
      " 4   depth    53794 non-null  float64\n",
      " 5   table    53794 non-null  float64\n",
      " 6   price    53794 non-null  int64  \n",
      " 7   x        53794 non-null  float64\n",
      " 8   y        53794 non-null  float64\n",
      " 9   z        53794 non-null  float64\n",
      "dtypes: float64(6), int64(1), object(3)\n",
      "memory usage: 4.5+ MB\n"
     ]
    }
   ],
   "source": [
    "diamonds = diamonds[~diamonds.duplicated()]\n",
    "diamonds.info()"
   ]
  },
  {
   "cell_type": "markdown",
   "id": "42a6f478",
   "metadata": {},
   "source": [
    "Após remover os datapoints repetidos usando o método .duplicated(), temos um dataset com 53794 entradas. Para evitar quaisquer problemas com índices faltantes, irei resetar os índices para que eles possuam um range adequado. Depois disso, vamos checar as features \"cut\", \"color\", e \"clarity\" para nos certificar que todos possuem valores adequados, conforme a [referência indicada](https://ggplot2.tidyverse.org/reference/diamonds.html)."
   ]
  },
  {
   "cell_type": "code",
   "execution_count": 5,
   "id": "d4c9af2c",
   "metadata": {},
   "outputs": [
    {
     "name": "stdout",
     "output_type": "stream",
     "text": [
      "<class 'pandas.core.frame.DataFrame'>\n",
      "RangeIndex: 53794 entries, 0 to 53793\n",
      "Data columns (total 11 columns):\n",
      " #   Column   Non-Null Count  Dtype  \n",
      "---  ------   --------------  -----  \n",
      " 0   index    53794 non-null  int64  \n",
      " 1   carat    53794 non-null  float64\n",
      " 2   cut      53794 non-null  object \n",
      " 3   color    53794 non-null  object \n",
      " 4   clarity  53794 non-null  object \n",
      " 5   depth    53794 non-null  float64\n",
      " 6   table    53794 non-null  float64\n",
      " 7   price    53794 non-null  int64  \n",
      " 8   x        53794 non-null  float64\n",
      " 9   y        53794 non-null  float64\n",
      " 10  z        53794 non-null  float64\n",
      "dtypes: float64(6), int64(2), object(3)\n",
      "memory usage: 4.5+ MB\n"
     ]
    }
   ],
   "source": [
    "diamonds.reset_index(inplace=True)\n",
    "diamonds.info()"
   ]
  },
  {
   "cell_type": "code",
   "execution_count": 6,
   "id": "d26f4a83",
   "metadata": {},
   "outputs": [
    {
     "data": {
      "text/plain": [
       "Ideal        21488\n",
       "Premium      13748\n",
       "Very Good    12069\n",
       "Good          4891\n",
       "Fair          1598\n",
       "Name: cut, dtype: int64"
      ]
     },
     "execution_count": 6,
     "metadata": {},
     "output_type": "execute_result"
    }
   ],
   "source": [
    "diamonds[\"cut\"].value_counts()\n"
   ]
  },
  {
   "cell_type": "code",
   "execution_count": 7,
   "id": "e96fc152",
   "metadata": {},
   "outputs": [
    {
     "data": {
      "text/plain": [
       "G    11262\n",
       "E     9776\n",
       "F     9520\n",
       "H     8272\n",
       "D     6755\n",
       "I     5407\n",
       "J     2802\n",
       "Name: color, dtype: int64"
      ]
     },
     "execution_count": 7,
     "metadata": {},
     "output_type": "execute_result"
    }
   ],
   "source": [
    "diamonds[\"color\"].value_counts()\n"
   ]
  },
  {
   "cell_type": "code",
   "execution_count": 8,
   "id": "7a485c62",
   "metadata": {},
   "outputs": [
    {
     "data": {
      "text/plain": [
       "SI1     13032\n",
       "VS2     12229\n",
       "SI2      9150\n",
       "VS1      8156\n",
       "VVS2     5056\n",
       "VVS1     3647\n",
       "IF       1784\n",
       "I1        740\n",
       "Name: clarity, dtype: int64"
      ]
     },
     "execution_count": 8,
     "metadata": {},
     "output_type": "execute_result"
    }
   ],
   "source": [
    "diamonds[\"clarity\"].value_counts()"
   ]
  },
  {
   "cell_type": "markdown",
   "id": "f136ba4b",
   "metadata": {},
   "source": [
    "Agora que nos certificamos que o dataset está limpo, vamos trabalhar nos histogramas:"
   ]
  },
  {
   "cell_type": "code",
   "execution_count": 9,
   "id": "431645db",
   "metadata": {},
   "outputs": [],
   "source": [
    "classes = diamonds[\"cut\"].value_counts().index # Cria lista com todos os possíveis valores de cut\n",
    "\n",
    "\n",
    "for key in diamonds.keys():\n",
    "    fig, axs = plt.subplots(2, figsize=(11, 10))\n",
    "    fig.suptitle(f\"Histograma de {key}\", fontsize=24)\n",
    "    sns.histplot(ax=axs[0], data=diamonds, x=diamonds[key], \n",
    "                 stat='density', bins=50, common_norm=True)\n",
    "\n",
    "    sns.histplot(ax=axs[1], data=diamonds, x=diamonds[key], \n",
    "                 stat='density', bins=50, common_norm=True, hue=\"cut\")\n",
    "    fig.tight_layout(rect=[0, 0.03, 1, 0.95])\n",
    "    fig.show()"
   ]
  },
  {
   "cell_type": "markdown",
   "id": "581e52cb",
   "metadata": {},
   "source": [
    "Com os histogramas feitos, vamos agora fazer nossa matriz de figuras, contendo histogramas e scatterplots que mostram a correlação entre as diversas features:"
   ]
  },
  {
   "cell_type": "code",
   "execution_count": 10,
   "id": "1140607c",
   "metadata": {},
   "outputs": [],
   "source": [
    "def correlation(x, y, **kws):\n",
    "    corr = np.corrcoef(diamonds[x.name], diamonds[y.name])\n",
    "    ax = plt.gca()\n",
    "    ax.annotate(f\"Correlação: {round(corr[0, 1], 2)}\", \n",
    "                xy=(0.25, 0.45), xycoords=ax.transAxes)\n",
    "    plt.axis('off')\n",
    "\n",
    "\n",
    "plot_matrix = sns.PairGrid(diamonds, hue='cut', diag_sharey=False)\n",
    "plot_matrix.map_diag(sns.histplot, stat='density', bins=50, common_norm=True)\n",
    "plot_matrix.map_lower(sns.scatterplot)\n",
    "plot_matrix.map_upper(correlation)"
   ]
  },
  {
   "cell_type": "markdown",
   "id": "81cbf14e",
   "metadata": {},
   "source": [
    "Com isso, a primeira parte está concluída!"
   ]
  },
  {
   "cell_type": "markdown",
   "id": "9f78f34a",
   "metadata": {},
   "source": [
    "## Part 2 - K-nearest-neighbour classifier"
   ]
  },
  {
   "cell_type": "markdown",
   "id": "2b819cd4",
   "metadata": {},
   "source": [
    "Primeiramente, vamos dividir nosso dataset em training, validation e testing sets. Antes disso, vamos primeiro tratar o dataset para transformar as variáveis categóricas em variáveis quantitativas. Como as variáveis categóricas em questão (a cor, clareza e corte) possuem todas uma ordem de melhor para pior, é razoável fazer uma conversão numérica direta para cada uma delas. Para isso, usamos"
   ]
  },
  {
   "cell_type": "code",
   "execution_count": 11,
   "id": "5d7fb54f",
   "metadata": {},
   "outputs": [
    {
     "data": {
      "text/html": [
       "<div>\n",
       "<style scoped>\n",
       "    .dataframe tbody tr th:only-of-type {\n",
       "        vertical-align: middle;\n",
       "    }\n",
       "\n",
       "    .dataframe tbody tr th {\n",
       "        vertical-align: top;\n",
       "    }\n",
       "\n",
       "    .dataframe thead th {\n",
       "        text-align: right;\n",
       "    }\n",
       "</style>\n",
       "<table border=\"1\" class=\"dataframe\">\n",
       "  <thead>\n",
       "    <tr style=\"text-align: right;\">\n",
       "      <th></th>\n",
       "      <th>cut</th>\n",
       "      <th>cut_ord</th>\n",
       "      <th>color</th>\n",
       "      <th>color_ord</th>\n",
       "      <th>clarity</th>\n",
       "      <th>clarity_ord</th>\n",
       "    </tr>\n",
       "  </thead>\n",
       "  <tbody>\n",
       "    <tr>\n",
       "      <th>0</th>\n",
       "      <td>Ideal</td>\n",
       "      <td>4.0</td>\n",
       "      <td>E</td>\n",
       "      <td>5.0</td>\n",
       "      <td>SI2</td>\n",
       "      <td>1.0</td>\n",
       "    </tr>\n",
       "    <tr>\n",
       "      <th>1</th>\n",
       "      <td>Premium</td>\n",
       "      <td>3.0</td>\n",
       "      <td>E</td>\n",
       "      <td>5.0</td>\n",
       "      <td>SI1</td>\n",
       "      <td>2.0</td>\n",
       "    </tr>\n",
       "    <tr>\n",
       "      <th>2</th>\n",
       "      <td>Good</td>\n",
       "      <td>1.0</td>\n",
       "      <td>E</td>\n",
       "      <td>5.0</td>\n",
       "      <td>VS1</td>\n",
       "      <td>4.0</td>\n",
       "    </tr>\n",
       "    <tr>\n",
       "      <th>3</th>\n",
       "      <td>Premium</td>\n",
       "      <td>3.0</td>\n",
       "      <td>I</td>\n",
       "      <td>1.0</td>\n",
       "      <td>VS2</td>\n",
       "      <td>3.0</td>\n",
       "    </tr>\n",
       "    <tr>\n",
       "      <th>4</th>\n",
       "      <td>Good</td>\n",
       "      <td>1.0</td>\n",
       "      <td>J</td>\n",
       "      <td>0.0</td>\n",
       "      <td>SI2</td>\n",
       "      <td>1.0</td>\n",
       "    </tr>\n",
       "  </tbody>\n",
       "</table>\n",
       "</div>"
      ],
      "text/plain": [
       "       cut  cut_ord color  color_ord clarity  clarity_ord\n",
       "0    Ideal      4.0     E        5.0     SI2          1.0\n",
       "1  Premium      3.0     E        5.0     SI1          2.0\n",
       "2     Good      1.0     E        5.0     VS1          4.0\n",
       "3  Premium      3.0     I        1.0     VS2          3.0\n",
       "4     Good      1.0     J        0.0     SI2          1.0"
      ]
     },
     "execution_count": 11,
     "metadata": {},
     "output_type": "execute_result"
    }
   ],
   "source": [
    "from sklearn.model_selection import train_test_split\n",
    "from sklearn.preprocessing import OrdinalEncoder\n",
    "\n",
    "# As listas precisam estar na ordem correta, começando de 0 (pior valor)\n",
    "cut_cats = [\"Fair\", \"Good\", \"Very Good\", \"Premium\", \"Ideal\"]\n",
    "color_cats = [\"J\", \"I\", \"H\", \"G\", \"F\", \"E\", \"D\"]\n",
    "clarity_cats = [\"I1\", \"SI2\", \"SI1\", \"VS2\", \"VS1\", \"VVS2\", \"VVS1\", \"IF\"]\n",
    "\n",
    "ordinal_encoder = OrdinalEncoder(categories=[cut_cats, color_cats, clarity_cats])\n",
    "\n",
    "diamonds_encoded = ordinal_encoder.fit_transform(diamonds[[\"cut\", \n",
    "                                                           \"color\", \n",
    "                                                           \"clarity\"]])\n",
    "diamonds_encoded = pd.DataFrame(diamonds_encoded) \n",
    "diamonds_encoded.columns = [\"cut_ord\", \"color_ord\", \"clarity_ord\"]\n",
    "\n",
    "diamonds_ordinal = pd.concat([diamonds, diamonds_encoded], axis=1)\n",
    "\n",
    "diamonds_ordinal[[\"cut\", \"cut_ord\", \"color\", \"color_ord\", \"clarity\", \"clarity_ord\"]].head()\n"
   ]
  },
  {
   "cell_type": "markdown",
   "id": "46d4adef",
   "metadata": {},
   "source": [
    "A correlação entre os números e seus valores categóricos está funcionando. Agora, vamos realizar nosso split no dataset, removendo as features categóricas originais:"
   ]
  },
  {
   "cell_type": "code",
   "execution_count": 12,
   "id": "633aaa15",
   "metadata": {},
   "outputs": [],
   "source": [
    "X_diamonds = diamonds_ordinal.drop([\"cut\", \"color\", \"clarity\"], axis=1)\n",
    "y_diamonds = diamonds_ordinal[\"cut\"]\n",
    "\n",
    "X_train, X_test, y_train, y_test = train_test_split(X_diamonds, y_diamonds, test_size=0.2, random_state=42, stratify=y_diamonds)\n",
    "X_test, X_val, y_test, y_val = train_test_split(X_test, y_test, test_size=0.2, random_state=42, stratify=y_test) "
   ]
  },
  {
   "cell_type": "markdown",
   "id": "28ebed10",
   "metadata": {},
   "source": [
    "Agora, vamos implementar nosso próprio estimator para realizar a classificação K-Nearest-Neighbours:"
   ]
  },
  {
   "cell_type": "code",
   "execution_count": 13,
   "id": "f316680f",
   "metadata": {},
   "outputs": [],
   "source": [
    "from sklearn.base import BaseEstimator\n",
    "\n",
    "class KNearestNeighbours(BaseEstimator):\n",
    "    def __init__(self, k=5, distances='euclidean'):\n",
    "        self.k = k  # Number of nearest neighbours to consider\n",
    "        self.distances = distances  # Can also be a matrix with precalculated distances\n",
    "    \n",
    "    def fit(self, X, y):\n",
    "        self.X_train = X  # Training data (in a dataframe)\n",
    "        self.y_train = pd.DataFrame(y)  # Training labels (in a series that gets converted)\n",
    "        return self\n",
    "\n",
    "    def predict(self, X):\n",
    "        labels = []\n",
    "        X_arr = np.array(X)\n",
    "\n",
    "        if self.distances=='euclidean':\n",
    "            # For each new datapoint, calculate and sort by the distance to each training point,\n",
    "            # and select the most common label in the k nearest neighbours\n",
    "            for datapoint in X_arr:  \n",
    "                point_dist = np.linalg.norm(self.X_train - datapoint, axis=1)\n",
    "                sorted_dist = np.argsort(point_dist)[:self.k]\n",
    "                predicted_label = self.y_train.iloc[sorted_dist, :].value_counts().index[0][0] \n",
    "                labels.append(predicted_label)\n",
    "        else:\n",
    "            # For each new datapoint, sort the previously calculated distances and \n",
    "            # select the most common label in the k nearest neighbours\n",
    "            if self.distances.shape[1] != self.X_train.shape[0]:\n",
    "                raise ValueError('Distances matrix must have the same number of columns as the number of datapoints in the training data')\n",
    "            for datapoint in self.distances:\n",
    "                sorted_dist = np.argsort(datapoint)[:self.k]\n",
    "                predicted_label = self.y_train.iloc[sorted_dist, :].value_counts().index[0][0] \n",
    "                labels.append(predicted_label)\n",
    "        return np.array(labels)\n"
   ]
  },
  {
   "cell_type": "code",
   "execution_count": 15,
   "id": "1148d504",
   "metadata": {},
   "outputs": [
    {
     "data": {
      "text/plain": [
       "0.49622400371790404"
      ]
     },
     "execution_count": 15,
     "metadata": {},
     "output_type": "execute_result"
    }
   ],
   "source": [
    "from sklearn.metrics import accuracy_score\n",
    "\n",
    "knn_dim = KNearestNeighbours(k=3)\n",
    "knn_dim.fit(X_train, y_train)\n",
    "y_pred = knn_dim.predict(X_test)\n",
    "\n",
    "\n",
    "accuracy_score(y_test, y_pred)"
   ]
  },
  {
   "cell_type": "code",
   "execution_count": 16,
   "id": "8dbc22ce",
   "metadata": {},
   "outputs": [
    {
     "data": {
      "text/plain": [
       "0.49622400371790404"
      ]
     },
     "execution_count": 16,
     "metadata": {},
     "output_type": "execute_result"
    }
   ],
   "source": [
    "from sklearn.neighbors import KNeighborsClassifier\n",
    "skknn = KNeighborsClassifier(n_neighbors=3)\n",
    "skknn.fit(X_train, y_train)\n",
    "sky_pred = skknn.predict(X_test)\n",
    "\n",
    "accuracy_score(y_test, sky_pred)"
   ]
  }
 ],
 "metadata": {
  "kernelspec": {
   "display_name": "TACD",
   "language": "python",
   "name": "tacd"
  },
  "language_info": {
   "codemirror_mode": {
    "name": "ipython",
    "version": 3
   },
   "file_extension": ".py",
   "mimetype": "text/x-python",
   "name": "python",
   "nbconvert_exporter": "python",
   "pygments_lexer": "ipython3",
   "version": "3.8.10"
  }
 },
 "nbformat": 4,
 "nbformat_minor": 5
}
